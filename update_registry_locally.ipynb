{
 "cells": [
  {
   "cell_type": "code",
   "execution_count": 1,
   "source": [
    "import os\n",
    "import pandas as pd\n",
    "\n",
    "from network_wrangler import ProjectCard\n",
    "\n",
    "from update_registry import update_registry\n",
    "from methods_io import read_project_cards\n",
    "from methods_add_cards import add_cards_to_registry\n",
    "from methods_add_cards import _make_available"
   ],
   "outputs": [],
   "metadata": {}
  },
  {
   "cell_type": "markdown",
   "source": [
    "## Input/Output"
   ],
   "metadata": {}
  },
  {
   "cell_type": "code",
   "execution_count": 2,
   "source": [
    "CARD_DIR = os.path.join(\".\", \"projects\")\n",
    "REGISTRY_FILE = \"registry.csv\"\n",
    "CONFIG_FILE = \"registry_config.yml\""
   ],
   "outputs": [],
   "metadata": {}
  },
  {
   "cell_type": "markdown",
   "source": [
    "## Update Registry"
   ],
   "metadata": {}
  },
  {
   "cell_type": "code",
   "execution_count": 3,
   "source": [
    "update_registry(\n",
    "        CONFIG_FILE, REGISTRY_FILE, \"delete_me.csv\", CARD_DIR, False,\n",
    "    )"
   ],
   "outputs": [
    {
     "output_type": "error",
     "ename": "KeyError",
     "evalue": "'category'",
     "traceback": [
      "\u001b[0;31m---------------------------------------------------------------------------\u001b[0m",
      "\u001b[0;31mKeyError\u001b[0m                                  Traceback (most recent call last)",
      "\u001b[0;32m/var/folders/qp/sq840hxs1rs_wtmckrby_mkw0000gn/T/ipykernel_7890/3917311636.py\u001b[0m in \u001b[0;36m<module>\u001b[0;34m\u001b[0m\n\u001b[1;32m      1\u001b[0m update_registry(\n\u001b[0;32m----> 2\u001b[0;31m         \u001b[0mCONFIG_FILE\u001b[0m\u001b[0;34m,\u001b[0m \u001b[0mREGISTRY_FILE\u001b[0m\u001b[0;34m,\u001b[0m \u001b[0;34m\"delete_me.csv\"\u001b[0m\u001b[0;34m,\u001b[0m \u001b[0mCARD_DIR\u001b[0m\u001b[0;34m,\u001b[0m \u001b[0;32mFalse\u001b[0m\u001b[0;34m,\u001b[0m\u001b[0;34m\u001b[0m\u001b[0;34m\u001b[0m\u001b[0m\n\u001b[0m\u001b[1;32m      3\u001b[0m     )\n",
      "\u001b[0;32m~/Documents/GitHub/project_card_registry/update_registry.py\u001b[0m in \u001b[0;36mupdate_registry\u001b[0;34m(config_file, input_reg_file, output_reg_file, card_dir, write_card_updates)\u001b[0m\n\u001b[1;32m     26\u001b[0m     \u001b[0mcard_file_list\u001b[0m \u001b[0;34m=\u001b[0m \u001b[0mread_project_cards\u001b[0m\u001b[0;34m(\u001b[0m\u001b[0mcard_dir\u001b[0m\u001b[0;34m)\u001b[0m\u001b[0;34m\u001b[0m\u001b[0;34m\u001b[0m\u001b[0m\n\u001b[1;32m     27\u001b[0m     df = add_cards_to_registry(\n\u001b[0;32m---> 28\u001b[0;31m         \u001b[0mcard_file_list\u001b[0m\u001b[0;34m,\u001b[0m \u001b[0minput_reg_df\u001b[0m\u001b[0;34m,\u001b[0m \u001b[0mconfig_dict\u001b[0m\u001b[0;34m,\u001b[0m \u001b[0mwrite_card_updates\u001b[0m\u001b[0;34m\u001b[0m\u001b[0;34m\u001b[0m\u001b[0m\n\u001b[0m\u001b[1;32m     29\u001b[0m     )\n\u001b[1;32m     30\u001b[0m     \u001b[0mdf\u001b[0m\u001b[0;34m.\u001b[0m\u001b[0mto_csv\u001b[0m\u001b[0;34m(\u001b[0m\u001b[0moutput_reg_file\u001b[0m\u001b[0;34m,\u001b[0m \u001b[0mindex\u001b[0m\u001b[0;34m=\u001b[0m\u001b[0;32mFalse\u001b[0m\u001b[0;34m)\u001b[0m\u001b[0;34m\u001b[0m\u001b[0;34m\u001b[0m\u001b[0m\n",
      "\u001b[0;32m~/Documents/GitHub/project_card_registry/methods_add_cards.py\u001b[0m in \u001b[0;36madd_cards_to_registry\u001b[0;34m(card_file_list, input_df, config, write_to_disk)\u001b[0m\n\u001b[1;32m     44\u001b[0m                 \u001b[0mout_df\u001b[0m\u001b[0;34m,\u001b[0m\u001b[0;34m\u001b[0m\u001b[0;34m\u001b[0m\u001b[0m\n\u001b[1;32m     45\u001b[0m                 \u001b[0mcard\u001b[0m\u001b[0;34m,\u001b[0m\u001b[0;34m\u001b[0m\u001b[0;34m\u001b[0m\u001b[0m\n\u001b[0;32m---> 46\u001b[0;31m                 \u001b[0mlinks_in_use\u001b[0m\u001b[0;34m,\u001b[0m\u001b[0;34m\u001b[0m\u001b[0;34m\u001b[0m\u001b[0m\n\u001b[0m\u001b[1;32m     47\u001b[0m             )\n\u001b[1;32m     48\u001b[0m \u001b[0;34m\u001b[0m\u001b[0m\n",
      "\u001b[0;32m~/Documents/GitHub/project_card_registry/methods_add_cards.py\u001b[0m in \u001b[0;36m_update_registry\u001b[0;34m(nodes_or_links, input_df, card, range_in_use)\u001b[0m\n\u001b[1;32m    228\u001b[0m     \u001b[0msubject_df\u001b[0m \u001b[0;34m=\u001b[0m \u001b[0minput_df\u001b[0m\u001b[0;34m[\u001b[0m\u001b[0minput_df\u001b[0m\u001b[0;34m[\u001b[0m\u001b[0;34m\"type\"\u001b[0m\u001b[0;34m]\u001b[0m \u001b[0;34m==\u001b[0m \u001b[0msubject_word\u001b[0m\u001b[0;34m]\u001b[0m\u001b[0;34m\u001b[0m\u001b[0;34m\u001b[0m\u001b[0m\n\u001b[1;32m    229\u001b[0m \u001b[0;34m\u001b[0m\u001b[0m\n\u001b[0;32m--> 230\u001b[0;31m     \u001b[0;32mif\u001b[0m \u001b[0mcard_dict\u001b[0m\u001b[0;34m[\u001b[0m\u001b[0;34m\"category\"\u001b[0m\u001b[0;34m]\u001b[0m \u001b[0;34m==\u001b[0m \u001b[0;34m\"New Roadway\"\u001b[0m\u001b[0;34m:\u001b[0m\u001b[0;34m\u001b[0m\u001b[0;34m\u001b[0m\u001b[0m\n\u001b[0m\u001b[1;32m    231\u001b[0m         \u001b[0;32mfor\u001b[0m \u001b[0msubject_index\u001b[0m\u001b[0;34m,\u001b[0m \u001b[0msubject\u001b[0m \u001b[0;32min\u001b[0m \u001b[0menumerate\u001b[0m\u001b[0;34m(\u001b[0m\u001b[0mcard_dict\u001b[0m\u001b[0;34m[\u001b[0m\u001b[0mnodes_or_links\u001b[0m\u001b[0;34m]\u001b[0m\u001b[0;34m)\u001b[0m\u001b[0;34m:\u001b[0m\u001b[0;34m\u001b[0m\u001b[0;34m\u001b[0m\u001b[0m\n\u001b[1;32m    232\u001b[0m             \u001b[0mnew_id\u001b[0m \u001b[0;34m=\u001b[0m \u001b[0msubject\u001b[0m\u001b[0;34m[\u001b[0m\u001b[0msubject_id_word\u001b[0m\u001b[0;34m]\u001b[0m\u001b[0;34m\u001b[0m\u001b[0;34m\u001b[0m\u001b[0m\n",
      "\u001b[0;31mKeyError\u001b[0m: 'category'"
     ]
    }
   ],
   "metadata": {}
  },
  {
   "cell_type": "code",
   "execution_count": null,
   "source": [],
   "outputs": [],
   "metadata": {}
  }
 ],
 "metadata": {
  "kernelspec": {
   "name": "python3",
   "display_name": "Python 3.7.10 64-bit ('card_repo': conda)"
  },
  "language_info": {
   "codemirror_mode": {
    "name": "ipython",
    "version": 3
   },
   "file_extension": ".py",
   "mimetype": "text/x-python",
   "name": "python",
   "nbconvert_exporter": "python",
   "pygments_lexer": "ipython3",
   "version": "3.7.10"
  },
  "interpreter": {
   "hash": "3adbe519986811a6bedc65ae708f3959e35c1146710300d1ea579f67caa1a685"
  }
 },
 "nbformat": 4,
 "nbformat_minor": 4
}